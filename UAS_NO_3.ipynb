{
 "cells": [
  {
   "cell_type": "code",
   "execution_count": null,
   "id": "1c860f89",
   "metadata": {},
   "outputs": [],
   "source": [
    "import numpy as np\n",
    "import matplotlib.pyplot as plt\n",
    "import pandas as pd"
   ]
  },
  {
   "cell_type": "code",
   "execution_count": 1,
   "id": "c761e89a",
   "metadata": {},
   "outputs": [
    {
     "ename": "SyntaxError",
     "evalue": "(unicode error) 'unicodeescape' codec can't decode bytes in position 26-28: truncated \\UXXXXXXXX escape (Temp/ipykernel_9828/3817116071.py, line 1)",
     "output_type": "error",
     "traceback": [
      "\u001b[1;36m  File \u001b[1;32m\"C:\\Users\\PAMALA~1\\AppData\\Local\\Temp/ipykernel_9828/3817116071.py\"\u001b[1;36m, line \u001b[1;32m1\u001b[0m\n\u001b[1;33m    df=pd.read_csv('F:\\AndiSurya\\kuliah\\LATUas\\UAS6_3_2022\\dataset_soal No.3.csv',delimiter=',')\u001b[0m\n\u001b[1;37m                                                                                 ^\u001b[0m\n\u001b[1;31mSyntaxError\u001b[0m\u001b[1;31m:\u001b[0m (unicode error) 'unicodeescape' codec can't decode bytes in position 26-28: truncated \\UXXXXXXXX escape\n"
     ]
    }
   ],
   "source": [
    "df=pd.read_csv('F:\\AndiSurya\\kuliah\\LATUas\\UAS6_3_2022\\dataset_soal No.3.csv',delimiter=',')\n",
    "df"
   ]
  },
  {
   "cell_type": "code",
   "execution_count": null,
   "id": "3d8eefb3",
   "metadata": {},
   "outputs": [],
   "source": [
    "import math \n",
    "dis = []\n",
    "for i in range(80):\n",
    "    dis.append(math.sqrt((float(df.iloc[i]['Usia'])-30)**2+\n",
    "                         (float(df.iloc[i]['Kelahiran_ke-'])- 1)**2+\n",
    "                         (float(df.iloc[i]['Waktu_Kelahiran'])-0)**2+\n",
    "                         (float(df.iloc[i]['Tekanan_darah'])-1)**2))\n"
   ]
  },
  {
   "cell_type": "code",
   "execution_count": null,
   "id": "9e751ebf",
   "metadata": {},
   "outputs": [],
   "source": [
    "df['dis'] = dis\n",
    "df\n"
   ]
  },
  {
   "cell_type": "code",
   "execution_count": null,
   "id": "dd0decdd",
   "metadata": {},
   "outputs": [],
   "source": [
    "df.sort_values('dis')"
   ]
  },
  {
   "cell_type": "code",
   "execution_count": null,
   "id": "a223ad1c",
   "metadata": {},
   "outputs": [],
   "source": [
    "y = df.sort_values('dis').head(3)\n",
    "y"
   ]
  },
  {
   "cell_type": "code",
   "execution_count": null,
   "id": "e7ee33b2",
   "metadata": {},
   "outputs": [],
   "source": [
    "z = y[\"Caesarian\"]\n",
    "z"
   ]
  },
  {
   "cell_type": "code",
   "execution_count": null,
   "id": "9e68ccfa",
   "metadata": {},
   "outputs": [],
   "source": [
    "np.mean(z)\n"
   ]
  },
  {
   "cell_type": "code",
   "execution_count": null,
   "id": "50acd1a3",
   "metadata": {},
   "outputs": [],
   "source": [
    "df.to_excel('F:\\AndiSurya\\kuliah\\LATUas\\UAS6_3_2022\\dataset_soal No.3(1).xls')"
   ]
  },
  {
   "cell_type": "code",
   "execution_count": null,
   "id": "40e055a2",
   "metadata": {},
   "outputs": [],
   "source": []
  },
  {
   "cell_type": "code",
   "execution_count": null,
   "id": "42d5aec5",
   "metadata": {},
   "outputs": [],
   "source": []
  }
 ],
 "metadata": {
  "kernelspec": {
   "display_name": "Python 3 (ipykernel)",
   "language": "python",
   "name": "python3"
  },
  "language_info": {
   "codemirror_mode": {
    "name": "ipython",
    "version": 3
   },
   "file_extension": ".py",
   "mimetype": "text/x-python",
   "name": "python",
   "nbconvert_exporter": "python",
   "pygments_lexer": "ipython3",
   "version": "3.9.7"
  }
 },
 "nbformat": 4,
 "nbformat_minor": 5
}
